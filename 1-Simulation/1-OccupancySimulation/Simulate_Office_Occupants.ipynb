{
 "cells": [
  {
   "cell_type": "code",
   "execution_count": null,
   "id": "5202a9eb",
   "metadata": {},
   "outputs": [],
   "source": [
    "import numpy as np\n",
    "import pandas as pd\n",
    "import random\n",
    "from OccupancySimulator_OfficeRoom import OccupancySimulator"
   ]
  },
  {
   "cell_type": "markdown",
   "id": "0b25fe09",
   "metadata": {},
   "source": [
    "## Simulate 1 day (Example)"
   ]
  },
  {
   "cell_type": "code",
   "execution_count": null,
   "id": "8c390389",
   "metadata": {
    "scrolled": true
   },
   "outputs": [],
   "source": [
    "osim = OccupancySimulator(maxOccupants=3)\n",
    "osim.simulation_days=1\n",
    "osim.seed_value = 42\n",
    "osim.apply = [\"lightswitch-2002_variational\",\n",
    "              \"random_moving_wang_2011\",\n",
    "              \"wob_markov_chain\"]\n",
    "osim.run()\n",
    "osim.df[['Occupants', 'WindowState']].plot()"
   ]
  },
  {
   "cell_type": "markdown",
   "id": "1b137d6c",
   "metadata": {},
   "source": [
    "## Simulate 1000 days for four room types\n",
    "\n",
    "Simulates 1000 working days for four times, considering a 1-4 person office"
   ]
  },
  {
   "cell_type": "code",
   "execution_count": null,
   "id": "d8d910cf",
   "metadata": {},
   "outputs": [],
   "source": [
    "df = pd.DataFrame()\n",
    "\n",
    "for i in range(1, 5):\n",
    "    \n",
    "        maxOccupants = i\n",
    "        \n",
    "        print(\"index: {}, min occupants: {}, max occupants: {} -> run simulation\".format(i, 1, maxOccupants))\n",
    "        # simulate\n",
    "        osim = OccupancySimulator(maxOccupants=maxOccupants, \n",
    "                                  simulation_days=1000,\n",
    "                                  seed_value=i)\n",
    "        osim.apply = [\"lightswitch-2002_variational\",\n",
    "                      \"random_moving_wang_2011\",\n",
    "                      \"wob_markov_chain\"]\n",
    "        osim.run()\n",
    "        \n",
    "        osim.df['simID'] = i\n",
    "        osim.df['maxOccupants'] = maxOccupants\n",
    "        # save\n",
    "        df = df.append(osim.df, ignore_index=True)\n",
    "        print(\"________________\")\n"
   ]
  },
  {
   "cell_type": "markdown",
   "id": "666932bd",
   "metadata": {},
   "source": [
    "## Partly window opening"
   ]
  },
  {
   "cell_type": "markdown",
   "id": "de305f41",
   "metadata": {},
   "source": [
    "Inserts a random number between 0.01 and 1.0 as a fraction of the window opening for each opening period"
   ]
  },
  {
   "cell_type": "code",
   "execution_count": null,
   "id": "0c7f06c8",
   "metadata": {},
   "outputs": [],
   "source": [
    "df['WindowOpeningFraction'] = 0\n",
    "changes = df['WindowState'].diff()[df['WindowState'].diff() != 0].index.values[1:]\n",
    "if len(changes) % 2 != 0: \n",
    "    # if window is not closed at the end of the dataset use last index as last closing action\n",
    "    changes = np.append(changes, len(df)-1)\n",
    "opening_periods = changes.reshape(-1, 2)\n",
    "for p in opening_periods: # opening fraction is randomly picked between 0.01 and 1.0\n",
    "    df.loc[p[0]:p[1]-1, 'WindowOpeningFraction'] = round(random.uniform(0.01, 1.0), 2)"
   ]
  },
  {
   "cell_type": "markdown",
   "id": "4be6ae72",
   "metadata": {},
   "source": [
    "## Simulation result"
   ]
  },
  {
   "cell_type": "code",
   "execution_count": 5,
   "id": "5612b560",
   "metadata": {},
   "outputs": [
    {
     "data": {
      "text/plain": [
       "<AxesSubplot:>"
      ]
     },
     "execution_count": 5,
     "metadata": {},
     "output_type": "execute_result"
    },
    {
     "data": {
      "image/png": "[encoded data removed]",
      "text/plain": [
       "<Figure size 432x288 with 1 Axes>"
      ]
     },
     "metadata": {
      "needs_background": "light"
     },
     "output_type": "display_data"
    }
   ],
   "source": [
    "day = 23 # example day\n",
    "df.loc[df.simID == 1, ['Occupants', 'WindowState']][1440 * (day-1) : 1440 * day].plot()"
   ]
  },
  {
   "cell_type": "code",
   "execution_count": 6,
   "id": "c5192db4",
   "metadata": {},
   "outputs": [
    {
     "name": "stdout",
     "output_type": "stream",
     "text": [
      "Simulated days: 4000\n",
      "Max number of occupants: 4\n",
      "Presence rate: 0.4066\n",
      "Mean number of occupants during presence: 1.633\n",
      "Mean window openings per day: 1.4068\n",
      "Open window rate: 0.011\n"
     ]
    }
   ],
   "source": [
    "print(\"Simulated days:\", int(len(df) / 1440))\n",
    "print(\"Max number of occupants:\", df.Occupants.max())\n",
    "print(\"Presence rate:\", round(df.Occupancy.sum() / len(df), 4))\n",
    "print(\"Mean number of occupants during presence:\", round(df.Occupants.sum() / df.Occupancy.sum(), 4))\n",
    "print(\"Mean window openings per day:\", round((df.WindowState > df.WindowState.shift(axis=0)).sum(axis=0) / (len(df) / 1440), 4))\n",
    "print(\"Open window rate:\", round(df.WindowState.sum() / len(df), 4))"
   ]
  },
  {
   "cell_type": "markdown",
   "id": "f6329d96",
   "metadata": {},
   "source": [
    "## Save simulated data"
   ]
  },
  {
   "cell_type": "code",
   "execution_count": 7,
   "id": "8e61511b",
   "metadata": {},
   "outputs": [
    {
     "data": {
      "text/html": [
       "<div>\n",
       "<style scoped>\n",
       "    .dataframe tbody tr th:only-of-type {\n",
       "        vertical-align: middle;\n",
       "    }\n",
       "\n",
       "    .dataframe tbody tr th {\n",
       "        vertical-align: top;\n",
       "    }\n",
       "\n",
       "    .dataframe thead th {\n",
       "        text-align: right;\n",
       "    }\n",
       "</style>\n",
       "<table border=\"1\" class=\"dataframe\">\n",
       "  <thead>\n",
       "    <tr style=\"text-align: right;\">\n",
       "      <th></th>\n",
       "      <th>Datetime</th>\n",
       "      <th>Date</th>\n",
       "      <th>Timestamp</th>\n",
       "      <th>Occupants</th>\n",
       "      <th>Occupancy</th>\n",
       "      <th>WindowState</th>\n",
       "      <th>simID</th>\n",
       "      <th>maxOccupants</th>\n",
       "      <th>WindowOpeningFraction</th>\n",
       "    </tr>\n",
       "  </thead>\n",
       "  <tbody>\n",
       "    <tr>\n",
       "      <th>0</th>\n",
       "      <td>2023-01-01 00:00:00</td>\n",
       "      <td>2023-01-01</td>\n",
       "      <td>1.672531e+09</td>\n",
       "      <td>0</td>\n",
       "      <td>0</td>\n",
       "      <td>0</td>\n",
       "      <td>1</td>\n",
       "      <td>1</td>\n",
       "      <td>0.0</td>\n",
       "    </tr>\n",
       "    <tr>\n",
       "      <th>1</th>\n",
       "      <td>2023-01-01 00:01:00</td>\n",
       "      <td>2023-01-01</td>\n",
       "      <td>1.672531e+09</td>\n",
       "      <td>0</td>\n",
       "      <td>0</td>\n",
       "      <td>0</td>\n",
       "      <td>1</td>\n",
       "      <td>1</td>\n",
       "      <td>0.0</td>\n",
       "    </tr>\n",
       "    <tr>\n",
       "      <th>2</th>\n",
       "      <td>2023-01-01 00:02:00</td>\n",
       "      <td>2023-01-01</td>\n",
       "      <td>1.672531e+09</td>\n",
       "      <td>0</td>\n",
       "      <td>0</td>\n",
       "      <td>0</td>\n",
       "      <td>1</td>\n",
       "      <td>1</td>\n",
       "      <td>0.0</td>\n",
       "    </tr>\n",
       "    <tr>\n",
       "      <th>3</th>\n",
       "      <td>2023-01-01 00:03:00</td>\n",
       "      <td>2023-01-01</td>\n",
       "      <td>1.672531e+09</td>\n",
       "      <td>0</td>\n",
       "      <td>0</td>\n",
       "      <td>0</td>\n",
       "      <td>1</td>\n",
       "      <td>1</td>\n",
       "      <td>0.0</td>\n",
       "    </tr>\n",
       "    <tr>\n",
       "      <th>4</th>\n",
       "      <td>2023-01-01 00:04:00</td>\n",
       "      <td>2023-01-01</td>\n",
       "      <td>1.672531e+09</td>\n",
       "      <td>0</td>\n",
       "      <td>0</td>\n",
       "      <td>0</td>\n",
       "      <td>1</td>\n",
       "      <td>1</td>\n",
       "      <td>0.0</td>\n",
       "    </tr>\n",
       "  </tbody>\n",
       "</table>\n",
       "</div>"
      ],
      "text/plain": [
       "             Datetime        Date     Timestamp  Occupants  Occupancy  \\\n",
       "0 2023-01-01 00:00:00  2023-01-01  1.672531e+09          0          0   \n",
       "1 2023-01-01 00:01:00  2023-01-01  1.672531e+09          0          0   \n",
       "2 2023-01-01 00:02:00  2023-01-01  1.672531e+09          0          0   \n",
       "3 2023-01-01 00:03:00  2023-01-01  1.672531e+09          0          0   \n",
       "4 2023-01-01 00:04:00  2023-01-01  1.672531e+09          0          0   \n",
       "\n",
       "   WindowState  simID  maxOccupants  WindowOpeningFraction  \n",
       "0            0      1             1                    0.0  \n",
       "1            0      1             1                    0.0  \n",
       "2            0      1             1                    0.0  \n",
       "3            0      1             1                    0.0  \n",
       "4            0      1             1                    0.0  "
      ]
     },
     "execution_count": 7,
     "metadata": {},
     "output_type": "execute_result"
    }
   ],
   "source": [
    "df.head()"
   ]
  },
  {
   "cell_type": "code",
   "execution_count": 8,
   "id": "40a74f89",
   "metadata": {},
   "outputs": [],
   "source": [
    "df.drop(columns=['simID'], inplace=True)\n",
    "df.to_csv(\"simulated_occupancy_office_rooms.csv\", index=False)"
   ]
  },
  {
   "cell_type": "markdown",
   "id": "de5ef871",
   "metadata": {},
   "source": [
    "## Show data"
   ]
  },
  {
   "cell_type": "code",
   "execution_count": 9,
   "id": "256c92cb",
   "metadata": {},
   "outputs": [
    {
     "data": {
      "text/plain": [
       "<AxesSubplot:>"
      ]
     },
     "execution_count": 9,
     "metadata": {},
     "output_type": "execute_result"
    },
    {
     "data": {
      "image/png": "[encoded data removed]",
      "text/plain": [
       "<Figure size 432x288 with 1 Axes>"
      ]
     },
     "metadata": {
      "needs_background": "light"
     },
     "output_type": "display_data"
    }
   ],
   "source": [
    "maxOccupants = 4\n",
    "number_of_days = 7\n",
    "\n",
    "days_in_df = len(df.loc[df.maxOccupants == maxOccupants]) / 1440\n",
    "df_week = pd.DataFrame()\n",
    "for d in range(0, number_of_days):\n",
    "    day = random.randint(1, days_in_df)\n",
    "    df_week = df_week.append(df.loc[df.simID == maxOccupants, ['Occupants', 'WindowState']][1440 * (day-1) : 1440 * day], ignore_index = True)\n",
    "    \n",
    "df_week[:2880].plot()"
   ]
  }
 ],
 "metadata": {
  "kernelspec": {
   "display_name": "Python 3",
   "language": "python",
   "name": "python3"
  },
  "language_info": {
   "codemirror_mode": {
    "name": "ipython",
    "version": 3
   },
   "file_extension": ".py",
   "mimetype": "text/x-python",
   "name": "python",
   "nbconvert_exporter": "python",
   "pygments_lexer": "ipython3",
   "version": "3.7.7"
  }
 },
 "nbformat": 4,
 "nbformat_minor": 5
}
