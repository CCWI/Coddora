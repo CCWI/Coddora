{
 "cells": [
  {
   "cell_type": "markdown",
   "id": "e05183cb",
   "metadata": {},
   "source": [
    "This script merges prepared training and validation data from office and meeting room datasets into one hdf5 file by appending to a dataset in the file."
   ]
  },
  {
   "cell_type": "code",
   "execution_count": null,
   "id": "a4b4a6cf",
   "metadata": {},
   "outputs": [],
   "source": [
    "import h5py\n",
    "import numpy as np"
   ]
  },
  {
   "cell_type": "code",
   "execution_count": null,
   "id": "56b0ab20",
   "metadata": {},
   "outputs": [],
   "source": [
    "source_file_path = None # INSERT FILE PATH TO PREPARED DATA\n",
    "destination_file_path = None # INSERT FILE PATH FOR RESULTING MERGED FILE\n",
    "\n",
    "dataset_name = 'y_val' \n",
    "# REPEAT FOR y_train, x_train_timeseries, x_train_metadata, x_val_timeseries, and x_val_metadata"
   ]
  },
  {
   "cell_type": "markdown",
   "id": "1673638e",
   "metadata": {},
   "source": [
    "### Append Data"
   ]
  },
  {
   "cell_type": "code",
   "execution_count": null,
   "id": "9a421e9d",
   "metadata": {},
   "outputs": [],
   "source": [
    "with h5py.File(source_file_path, 'r') as source_file:\n",
    "    dataset_to_append = source_file[dataset_name][:]\n",
    "\n",
    "with h5py.File(destination_file_path, 'a') as dest_file:\n",
    "    if dataset_name in dest_file:\n",
    "        print(\"Dataset\", dataset_name, \"found.\")\n",
    "        existing_dataset = dest_file[dataset_name][:]\n",
    "        new_dataset = np.concatenate([existing_dataset, dataset_to_append])\n",
    "        del dest_file[dataset_name] # remove old dataset\n",
    "        dest_file.create_dataset(dataset_name, data=new_dataset)  # create concatenated dataset\n",
    "    else:\n",
    "        print(\"Dataset\", dataset_name, \"not found.\")\n",
    "        dest_file.create_dataset(dataset_name, data=dataset_to_append)\n",
    "\n",
    "print(\"Dataset appended successfully.\")"
   ]
  },
  {
   "cell_type": "markdown",
   "id": "9ae352d3",
   "metadata": {},
   "source": [
    "### Check Shape"
   ]
  },
  {
   "cell_type": "code",
   "execution_count": null,
   "id": "73f96bf8",
   "metadata": {},
   "outputs": [],
   "source": [
    "import dask.array as da\n",
    "\n",
    "h5_file = h5py.File(destination_file_path, 'r')\n",
    "\n",
    "#x_train      = da.from_array(h5_file['x_train_timeseries'], chunks=100000)\n",
    "#x_train_meta = da.from_array(h5_file['x_train_metadata'], chunks=100000)\n",
    "#y_train       = da.from_array(h5_file['y_train'], chunks=100000)\n",
    "#x_val        = da.from_array(h5_file['x_val_timeseries'], chunks=100000)\n",
    "#x_val_meta   = da.from_array(h5_file['x_val_metadata'], chunks=100000)\n",
    "y_val         = da.from_array(h5_file['y_val'], chunks=100000)\n",
    "\n",
    "y_val"
   ]
  }
 ],
 "metadata": {
  "kernelspec": {
   "display_name": "Python 3",
   "language": "python",
   "name": "python3"
  },
  "language_info": {
   "codemirror_mode": {
    "name": "ipython",
    "version": 3
   },
   "file_extension": ".py",
   "mimetype": "text/x-python",
   "name": "python",
   "nbconvert_exporter": "python",
   "pygments_lexer": "ipython3",
   "version": "3.7.7"
  }
 },
 "nbformat": 4,
 "nbformat_minor": 5
}
