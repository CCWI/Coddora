{
 "cells": [
  {
   "cell_type": "markdown",
   "id": "48aaf001",
   "metadata": {},
   "source": [
    "# How to use Coddora"
   ]
  },
  {
   "cell_type": "markdown",
   "id": "e8e9e9bd",
   "metadata": {},
   "source": [
    "Coddora is a simulation-trained deep learning model for detecting occupancy from CO2 rates in building rooms.<br>\n",
    "It may be applied as a zero-shot classifier or you may fine-tune it with your own measured indoor CO2 data for better detection accuracy.<br> For zero-shot classification, we also provide a second version CoddoraRW, which may be more suitable in real-world applications.<br><br>\n",
    "This file shows how to use Coddora."
   ]
  },
  {
   "cell_type": "code",
   "execution_count": 14,
   "id": "18608c1d",
   "metadata": {},
   "outputs": [],
   "source": [
    "import requests\n",
    "import zipfile\n",
    "import os\n",
    "import shutil\n",
    "import matplotlib.pyplot as plt\n",
    "import numpy as np\n",
    "import tensorflow as tf"
   ]
  },
  {
   "cell_type": "markdown",
   "id": "b859dcae",
   "metadata": {},
   "source": [
    "## Load Coddora Model"
   ]
  },
  {
   "cell_type": "markdown",
   "id": "dd8048bc",
   "metadata": {},
   "source": [
    "Choose one of the following URLs to load your model from, or store it locally and load it via:<br> <i>tf.keras.models.load_model(model_path)</i>\n",
    "\n",
    "In this example we load the Coddora model.<br>\n",
    "You may also choose CoddoraRW, which was additionally trained on real-world data and may provide better results as a zero-shot classifier."
   ]
  },
  {
   "cell_type": "code",
   "execution_count": 15,
   "id": "f0c8c552",
   "metadata": {},
   "outputs": [],
   "source": [
    "# URL for Coddora model\n",
    "url = 'https://raw.githubusercontent.com/CCWI/Coddora/master/Models/coddora.zip'\n",
    "\n",
    "# URL for CoddoraRW\n",
    "#url = 'https://raw.githubusercontent.com/CCWI/Coddora/master/Models/coddoraRW.zip'"
   ]
  },
  {
   "cell_type": "code",
   "execution_count": 16,
   "id": "b3a20907",
   "metadata": {},
   "outputs": [
    {
     "name": "stdout",
     "output_type": "stream",
     "text": [
      "Model loaded successfully\n"
     ]
    }
   ],
   "source": [
    "def load_model_from_url(url, extraction_path='./temporary_model_extraction'):\n",
    "    \n",
    "    try:\n",
    "        # download and extract zipped model\n",
    "        response = requests.get(url, timeout=60)\n",
    "\n",
    "        if not os.path.exists(extraction_path):\n",
    "            os.makedirs(extraction_path)\n",
    "\n",
    "        zip_path = os.path.join(extraction_path, \"model.zip\")\n",
    "        with open(zip_path, 'wb') as f:\n",
    "            f.write(response.content)\n",
    "        with zipfile.ZipFile(zip_path, 'r') as zip_ref:\n",
    "            zip_ref.extractall(extraction_path)\n",
    "        model_path = os.path.join(extraction_path)\n",
    "        \n",
    "        # load model\n",
    "        model = tf.keras.models.load_model(model_path)\n",
    "\n",
    "        # remove temporary extraction path\n",
    "        if os.path.exists(extraction_path):\n",
    "            shutil.rmtree(extraction_path)\n",
    "        \n",
    "        print(\"Model loaded successfully\")\n",
    "        return model\n",
    "\n",
    "    except requests.RequestException as e:\n",
    "        print(f\"Download failed: {str(e)}\")\n",
    "        return None\n",
    "    except zipfile.BadZipFile:\n",
    "        print(\"An Error occured while extracting the zip file\")\n",
    "        return None\n",
    "    except Exception as e:\n",
    "        print(f\"Loading the model failed: {str(e)}\")\n",
    "        return None\n",
    "\n",
    "model = load_model_from_url(url)"
   ]
  },
  {
   "cell_type": "code",
   "execution_count": 17,
   "id": "e0f624d2",
   "metadata": {},
   "outputs": [
    {
     "name": "stdout",
     "output_type": "stream",
     "text": [
      "Model: \"cdblstm\"\n",
      "_________________________________________________________________\n",
      "Layer (type)                 Output Shape              Param #   \n",
      "=================================================================\n",
      "conv1D_layer1 (Conv1D)       multiple                  1200      \n",
      "_________________________________________________________________\n",
      "pooling_layer1 (MaxPooling1D multiple                  0         \n",
      "_________________________________________________________________\n",
      "conv1D_layer2 (Conv1D)       multiple                  30050     \n",
      "_________________________________________________________________\n",
      "pooling_layer2 (MaxPooling1D multiple                  0         \n",
      "_________________________________________________________________\n",
      "blstm_layer1 (Bidirectional) multiple                  40400     \n",
      "_________________________________________________________________\n",
      "blstm_layer2 (Bidirectional) multiple                  60400     \n",
      "_________________________________________________________________\n",
      "blstm_layer3 (Bidirectional) multiple                  60400     \n",
      "_________________________________________________________________\n",
      "dropout_layer (Dropout)      multiple                  0         \n",
      "_________________________________________________________________\n",
      "dense_layer (Dense)          multiple                  10400     \n",
      "_________________________________________________________________\n",
      "output (Dense)               multiple                  101       \n",
      "=================================================================\n",
      "Total params: 202,951\n",
      "Trainable params: 202,951\n",
      "Non-trainable params: 0\n",
      "_________________________________________________________________\n"
     ]
    }
   ],
   "source": [
    "model.summary()"
   ]
  },
  {
   "cell_type": "markdown",
   "id": "5455a0b9",
   "metadata": {},
   "source": [
    "## Prepare Data Sample"
   ]
  },
  {
   "cell_type": "markdown",
   "id": "90b5c8dd",
   "metadata": {},
   "source": [
    "#### 1. Sample of CO2 Timeseries\n",
    "\n",
    "As an example, we choose a simple timeseries with linearly increasing CO2 values.<br>\n",
    "Note: This is not a realistic behavior, but as the CO2 values are constantly increasing, we can expect that Coddora will detect occupany here.\n",
    "<br><br>\n",
    "Our sample has to be encoded as a <b>2D array</b> of <b>float values</b> with shape <b>(30, 1)</b><br>\n",
    "representing the CO2 levels for each minute in a <b>30-min time range</b>.<br>\n",
    "Make sure to meet this requirement when preparing your input samples from measured sensor data."
   ]
  },
  {
   "cell_type": "code",
   "execution_count": 18,
   "id": "747a5af3",
   "metadata": {},
   "outputs": [
    {
     "data": {
      "text/plain": [
       "(30, 1)"
      ]
     },
     "execution_count": 18,
     "metadata": {},
     "output_type": "execute_result"
    },
    {
     "data": {
      "image/png": "[encoded data removed]",
      "text/plain": [
       "<Figure size 432x288 with 1 Axes>"
      ]
     },
     "metadata": {
      "needs_background": "light"
     },
     "output_type": "display_data"
    }
   ],
   "source": [
    "co2 = [[600.], [602.], [604.], [606.], [608.], [610.], [612.], [614.], [616.], [618.], [620.], [622.], [624.], [626.], [628.],\n",
    "       [630.], [632.], [634.], [636.], [638.], [640.], [642.], [644.], [646.], [648.], [650.], [652.], [654.], [656.], [658.]]\n",
    "\n",
    "plt.plot(co2)\n",
    "np.shape(co2)"
   ]
  },
  {
   "cell_type": "markdown",
   "id": "af6ef9c1",
   "metadata": {},
   "source": [
    "#### 2. Sample of Metadata\n",
    "\n",
    "As a second input, the model requires the room's <b>volume</b> in m², <b>infiltration rate</b> in m³/s per m² facade and <b>occupation limit</b>.<br>\n",
    "\n",
    "\n",
    "If the infiltration is unknown, we can simply estimate it<br>(according to https://www.ladybug.tools/honeybee-energy/docs/honeybee_energy.load.infiltration.html):<br>\n",
    "- 0.0001 (m³/s per m² facade) - Tight building\n",
    "- 0.0003 (m³/s per m² facade) - Average building\n",
    "- 0.0006 (m³/s per m² facade) - Leaky building\n",
    "\n",
    "In a modern building, we can assume a value of 0.0001.\n",
    "\n",
    "For our example, we choose a room that measures 20 m² with a height of 3 m, which gives us a room volume of 60 m³.\n",
    "Let's say the room is a single-person office and the building is relatively young, so we assume an infiltration of 0.0001 m³/sm². Then our metadata array looks like this:"
   ]
  },
  {
   "cell_type": "code",
   "execution_count": 19,
   "id": "105a5431",
   "metadata": {},
   "outputs": [
    {
     "data": {
      "text/plain": [
       "[60, 0.0001, 1]"
      ]
     },
     "execution_count": 19,
     "metadata": {},
     "output_type": "execute_result"
    }
   ],
   "source": [
    "metadata = [60,  0.0001, 1]  # [volume, infiltration, maxOccupants]\n",
    "\n",
    "metadata"
   ]
  },
  {
   "cell_type": "markdown",
   "id": "a71711d8",
   "metadata": {},
   "source": [
    "Before we can use it, we have to <b>scale each value</b> to the range [0, 1] in accordance with the boundaries set for the simulations that Coddora was trained on.<br>\n",
    "You may use the following functions:"
   ]
  },
  {
   "cell_type": "code",
   "execution_count": 20,
   "id": "a1b1dfe8",
   "metadata": {},
   "outputs": [
    {
     "data": {
      "text/plain": [
       "[0.1290983606557377, 0.0196078431372549, 0.0]"
      ]
     },
     "execution_count": 20,
     "metadata": {},
     "output_type": "execute_result"
    }
   ],
   "source": [
    "def scale_data(data, min_domain, max_domain, min_feature=0, max_feature=1):\n",
    "    '''\n",
    "    Scales data by a defined domain minimum/maximum.\n",
    "    Optionally the feature range can be adjusted - the default is [0, 1].\n",
    "    '''\n",
    "    return (data - min_domain) / (max_domain - min_domain) * (max_feature - min_feature) + min_feature\n",
    "\n",
    "def scale_meta_features(meta_features):\n",
    "    '''\n",
    "    Scales each value in an array of meta features to the range [0, 1]. \n",
    "    Values outside the boundaries (min_domain, max_domain) are not allowed.\n",
    "    :param meta_features: feature array [_volume, infiltration, maxOccupants]\n",
    "    '''\n",
    "    meta_features[0] = scale_data(meta_features[0], min_domain=9.6, max_domain=400)\n",
    "    meta_features[1] = scale_data(meta_features[1], min_domain=0.000085, max_domain=0.00085)\n",
    "    meta_features[2] = scale_data(meta_features[2], min_domain=1, max_domain=12)\n",
    "    return meta_features\n",
    "\n",
    "scaled_metadata = scale_meta_features(metadata)\n",
    "\n",
    "scaled_metadata"
   ]
  },
  {
   "cell_type": "markdown",
   "id": "11620371",
   "metadata": {},
   "source": [
    "####  3. Final Input Tuple\n",
    "\n",
    "The Coddora model requires two inputs: one for the <b>timeseries data (input 1)</b> and another for the scaled <b>metadata</b> about the room <b>(input 2)</b>.<br>\n",
    "Now that our data is prepared, we create a joint input tuple using a numpy array for the samples for input 1 and another numpy array for input 2.<br> In our case, the arrays contain only a single sample each."
   ]
  },
  {
   "cell_type": "code",
   "execution_count": 21,
   "id": "9154180c",
   "metadata": {},
   "outputs": [],
   "source": [
    "input_tuple = (np.array([co2]), np.array([scaled_metadata]))"
   ]
  },
  {
   "cell_type": "markdown",
   "id": "50497f0a",
   "metadata": {},
   "source": [
    "The final input tuple must be a 2-tuple, where the first element is the timeseries input with a shape of <b>(batch_size, 30, 1)</b> <br>and the second element is the metadata input with a shape of <b>(batch_size, 3)</b>.<br>\n",
    "In our case, the batch size is only one:"
   ]
  },
  {
   "cell_type": "code",
   "execution_count": 22,
   "id": "e99d71f8",
   "metadata": {},
   "outputs": [
    {
     "data": {
      "text/plain": [
       "((1, 30, 1), (1, 3))"
      ]
     },
     "execution_count": 22,
     "metadata": {},
     "output_type": "execute_result"
    }
   ],
   "source": [
    "np.shape(input_tuple[0]), np.shape(input_tuple[1])"
   ]
  },
  {
   "cell_type": "markdown",
   "id": "17d0bce0",
   "metadata": {},
   "source": [
    "## Make a Prediction"
   ]
  },
  {
   "cell_type": "markdown",
   "id": "682d6cc7",
   "metadata": {},
   "source": [
    "To make a prediction, we call the <b>predict</b> function of the model and pass the tuple that contains both input samples.<br> The result can be interpreted as a probability of presence at the end of the timeseries, ranging from 0 to 1."
   ]
  },
  {
   "cell_type": "code",
   "execution_count": 25,
   "id": "b597e796",
   "metadata": {},
   "outputs": [
    {
     "data": {
      "text/plain": [
       "array([[0.6565976]], dtype=float32)"
      ]
     },
     "execution_count": 25,
     "metadata": {},
     "output_type": "execute_result"
    }
   ],
   "source": [
    "model.predict(input_tuple)"
   ]
  },
  {
   "cell_type": "markdown",
   "id": "89a83cdd",
   "metadata": {},
   "source": [
    "To determine the predicted state of occupancy, we compare probability predictions to the prediction threshold of 0.5:"
   ]
  },
  {
   "cell_type": "code",
   "execution_count": 26,
   "id": "4cd00b7d",
   "metadata": {},
   "outputs": [
    {
     "data": {
      "text/plain": [
       "array([[ True]])"
      ]
     },
     "execution_count": 26,
     "metadata": {},
     "output_type": "execute_result"
    }
   ],
   "source": [
    "model.predict(input_tuple) > 0.5"
   ]
  },
  {
   "cell_type": "markdown",
   "id": "de4c777f",
   "metadata": {},
   "source": [
    "Coddora is detecting occupancy in this example.\n",
    "\n",
    "## More example code:\n",
    "\n",
    "For fine-tuning Coddora, you may use the code from <i>3-Model_Training/2_Retrain_on_Real_World_Data.ipynb</i><br>\n",
    "For evaluation on a real-world dataset, see <i>4-Evaluation</i>"
   ]
  }
 ],
 "metadata": {
  "kernelspec": {
   "display_name": "Python 3",
   "language": "python",
   "name": "python3"
  },
  "language_info": {
   "codemirror_mode": {
    "name": "ipython",
    "version": 3
   },
   "file_extension": ".py",
   "mimetype": "text/x-python",
   "name": "python",
   "nbconvert_exporter": "python",
   "pygments_lexer": "ipython3",
   "version": "3.7.7"
  }
 },
 "nbformat": 4,
 "nbformat_minor": 5
}
